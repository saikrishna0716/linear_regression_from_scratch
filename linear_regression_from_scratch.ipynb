{
  "nbformat": 4,
  "nbformat_minor": 0,
  "metadata": {
    "colab": {
      "provenance": [],
      "authorship_tag": "ABX9TyM+OUpPsn7iWqKqILQ+YSbT",
      "include_colab_link": true
    },
    "kernelspec": {
      "name": "python3",
      "display_name": "Python 3"
    },
    "language_info": {
      "name": "python"
    }
  },
  "cells": [
    {
      "cell_type": "markdown",
      "metadata": {
        "id": "view-in-github",
        "colab_type": "text"
      },
      "source": [
        "<a href=\"https://colab.research.google.com/github/saikrishna0716/linear_regression_from_scratch/blob/main/linear_regression_from_scratch.ipynb\" target=\"_parent\"><img src=\"https://colab.research.google.com/assets/colab-badge.svg\" alt=\"Open In Colab\"/></a>"
      ]
    },
    {
      "cell_type": "code",
      "source": [
        "import matplotlib.pyplot as plt\n",
        "import numpy as np"
      ],
      "metadata": {
        "id": "tx3WT3vxJokv"
      },
      "execution_count": 449,
      "outputs": []
    },
    {
      "cell_type": "code",
      "source": [
        "np.random.seed(12345)"
      ],
      "metadata": {
        "id": "Y7eEAiBPLZ_S"
      },
      "execution_count": null,
      "outputs": []
    },
    {
      "cell_type": "markdown",
      "source": [
        "## Cost Function\n",
        "\n",
        "```\n",
        "C = (1/n) * Σ(y_i - ŷ_i)², where ŷ_i = intercept + coeff * x_i\n",
        "```\n",
        "\n",
        "\n",
        "### Partial Derivative w.r.t. Intercept\n",
        "\n",
        "```\n",
        "dC/dIntercept = (1/n) * Σ 2(y_i - ŷ_i) * d/dIntercept(y_i - ŷ_i)\n",
        "              = (1/n) * Σ 2(y_i - ŷ_i) * (-1)\n",
        "              = -(2/n) * Σ(y_i - ŷ_i)\n",
        "```\n",
        "\n",
        "### Partial Derivative w.r.t. Coefficient\n",
        "\n",
        "```\n",
        "dC/dCoeff = (1/n) * Σ 2(y_i - ŷ_i) * d/dCoeff(y_i - ŷ_i)\n",
        "          = (1/n) * Σ 2(y_i - ŷ_i) * (-x_i)\n",
        "          = -(2/n) * Σ(x_i * (y_i - ŷ_i))\n",
        "```"
      ],
      "metadata": {
        "id": "KlE1LoWkNbvq"
      }
    },
    {
      "cell_type": "code",
      "source": [
        "def cost_function(intercept, coeff, x_train, y_train):\n",
        "\n",
        "  y_pred = intercept + coeff * x_train\n",
        "\n",
        "  return np.sum((y_pred - y_train)**2) / len(x_train)"
      ],
      "metadata": {
        "id": "JV-sQSt-MAs7"
      },
      "execution_count": null,
      "outputs": []
    },
    {
      "cell_type": "code",
      "source": [
        "def batch_gradient_descent(intercept, coeff, learning_rate, x, y):\n",
        "\n",
        "  n = len(x)\n",
        "\n",
        "  y_pred = intercept + coeff * x\n",
        "\n",
        "  dC_DIntercept = - 2 * np.sum(y - y_pred) / n\n",
        "  dC_DCoeff = - 2 * np.sum((y - y_pred)*x) / n\n",
        "\n",
        "  new_intercept = intercept - learning_rate * dC_DIntercept\n",
        "  new_coeff = coeff - learning_rate * dC_DCoeff\n",
        "\n",
        "  return new_intercept, new_coeff"
      ],
      "metadata": {
        "id": "iKxwFWD_NaP5"
      },
      "execution_count": null,
      "outputs": []
    },
    {
      "cell_type": "code",
      "source": [
        "x = np.array([[8],\n",
        "        [6],\n",
        "        [5],\n",
        "        [9],\n",
        "        [3],\n",
        "        [8],\n",
        "        [4],\n",
        "        [4],\n",
        "        [6],\n",
        "        [6]])\n",
        "y = [10, 10, 10, 10, 10, 10, 10, 10, 10, 10]"
      ],
      "metadata": {
        "id": "rkevIcYN2HfN"
      },
      "execution_count": null,
      "outputs": []
    },
    {
      "cell_type": "code",
      "source": [
        "x = x[:,0]\n",
        "# y = x*2 + 5\n",
        "# y = x*2 + 5 + [np.random.randint(-2,2) for _ in range(len(x))]"
      ],
      "metadata": {
        "id": "rV3hfTBaYWre"
      },
      "execution_count": null,
      "outputs": []
    },
    {
      "cell_type": "code",
      "source": [
        "plt.scatter(x,y)"
      ],
      "metadata": {
        "colab": {
          "base_uri": "https://localhost:8080/",
          "height": 448
        },
        "id": "KawxX2wtZK6v",
        "outputId": "2dbe7665-1f8d-49b0-cf71-d28d8243da39"
      },
      "execution_count": null,
      "outputs": [
        {
          "output_type": "execute_result",
          "data": {
            "text/plain": [
              "<matplotlib.collections.PathCollection at 0x7f80b828b090>"
            ]
          },
          "metadata": {},
          "execution_count": 9
        },
        {
          "output_type": "display_data",
          "data": {
            "text/plain": [
              "<Figure size 640x480 with 1 Axes>"
            ],
            "image/png": "[encoded data removed]"
          },
          "metadata": {}
        }
      ]
    },
    {
      "cell_type": "code",
      "source": [
        "cost_function(0, 0, x, y)"
      ],
      "metadata": {
        "colab": {
          "base_uri": "https://localhost:8080/"
        },
        "id": "HT0t2vVT2gni",
        "outputId": "b9daab72-5d13-4a66-edf4-d2f675175768"
      },
      "execution_count": null,
      "outputs": [
        {
          "output_type": "execute_result",
          "data": {
            "text/plain": [
              "np.float64(100.0)"
            ]
          },
          "metadata": {},
          "execution_count": 294
        }
      ]
    },
    {
      "cell_type": "code",
      "source": [
        "batch_gradient_descent(0, 0, 0.01, x, y)"
      ],
      "metadata": {
        "colab": {
          "base_uri": "https://localhost:8080/"
        },
        "id": "hr6yXGwZ2rGv",
        "outputId": "0b17adc8-6cea-4912-bb95-2b56d7bee85b"
      },
      "execution_count": null,
      "outputs": [
        {
          "output_type": "execute_result",
          "data": {
            "text/plain": [
              "(np.float64(0.2), np.float64(1.18))"
            ]
          },
          "metadata": {},
          "execution_count": 295
        }
      ]
    },
    {
      "cell_type": "code",
      "source": [
        "intercept = 0\n",
        "coeff = 0\n",
        "\n",
        "learning_rate = 0.01\n",
        "iterations = 1000\n",
        "\n",
        "costs = []\n",
        "variables = []\n",
        "\n",
        "for iter in range(iterations):\n",
        "\n",
        "  cost = cost_function(intercept, coeff, x, y)\n",
        "\n",
        "  variables.append((round(intercept,2), round(coeff,2)))\n",
        "  costs.append(round(cost,3))\n",
        "\n",
        "  intercept, coeff = batch_gradient_descent(intercept, coeff, learning_rate, x, y)\n",
        "\n",
        "  new_cost = cost_function(intercept, coeff, x, y)\n",
        "\n",
        "  if round(abs(new_cost - cost),4) < 0.0001:\n",
        "    print(f'Stopping at {iter} iteration')\n",
        "    best_intercept, best_coeff = intercept, coeff\n",
        "    break"
      ],
      "metadata": {
        "id": "yxJvvCGCXff1"
      },
      "execution_count": null,
      "outputs": []
    },
    {
      "cell_type": "code",
      "source": [
        "costs[0], costs[-1]"
      ],
      "metadata": {
        "colab": {
          "base_uri": "https://localhost:8080/"
        },
        "id": "7xt29eC0Y6IQ",
        "outputId": "85c6c724-b61c-4c34-b0ec-93d0346e7a95"
      },
      "execution_count": null,
      "outputs": [
        {
          "output_type": "execute_result",
          "data": {
            "text/plain": [
              "(np.float64(235.9), np.float64(0.985))"
            ]
          },
          "metadata": {},
          "execution_count": 144
        }
      ]
    },
    {
      "cell_type": "code",
      "source": [
        "plt.plot(np.log(costs))\n",
        "plt.title(\"Cost function over iterations\")"
      ],
      "metadata": {
        "colab": {
          "base_uri": "https://localhost:8080/",
          "height": 470
        },
        "id": "kfdIIIbeZgnz",
        "outputId": "ebb73793-b92b-4a8a-c7b3-286b1b9f693e"
      },
      "execution_count": null,
      "outputs": [
        {
          "output_type": "execute_result",
          "data": {
            "text/plain": [
              "Text(0.5, 1.0, 'Cost function over iterations')"
            ]
          },
          "metadata": {},
          "execution_count": 328
        },
        {
          "output_type": "display_data",
          "data": {
            "text/plain": [
              "<Figure size 640x480 with 1 Axes>"
            ],
            "image/png": "[encoded data removed]"
          },
          "metadata": {}
        }
      ]
    },
    {
      "cell_type": "code",
      "source": [
        "best_intercept, best_coeff"
      ],
      "metadata": {
        "colab": {
          "base_uri": "https://localhost:8080/"
        },
        "id": "mCOPcOekaKEd",
        "outputId": "f624d96f-94b1-47e4-b817-054b2721cdf0"
      },
      "execution_count": null,
      "outputs": [
        {
          "output_type": "execute_result",
          "data": {
            "text/plain": [
              "(np.float64(3.6588978180867504), np.float64(2.2680875406091827))"
            ]
          },
          "metadata": {},
          "execution_count": 329
        }
      ]
    },
    {
      "cell_type": "code",
      "source": [
        "for idx in range(10):\n",
        "\n",
        "  iter = idx\n",
        "  interm_intercept, interm_coeff = variables[iter][0], variables[iter][1]\n",
        "  plt.plot(x, interm_intercept + interm_coeff * x, label=f'Fit at iteration {iter}')\n",
        "\n",
        "plt.plot(x, best_intercept + best_coeff * x, linewidth=4, label='Best fit',color='green')\n",
        "plt.scatter(x, y, alpha=0.5, label='Data points')\n",
        "plt.title('Model fit over iterations')\n",
        "plt.legend()"
      ],
      "metadata": {
        "colab": {
          "base_uri": "https://localhost:8080/",
          "height": 470
        },
        "id": "dPlHW6-Rcswe",
        "outputId": "a0947109-c477-4268-af4c-41bdaf1426b7"
      },
      "execution_count": null,
      "outputs": [
        {
          "output_type": "execute_result",
          "data": {
            "text/plain": [
              "<matplotlib.legend.Legend at 0x7a93e3670310>"
            ]
          },
          "metadata": {},
          "execution_count": 330
        },
        {
          "output_type": "display_data",
          "data": {
            "text/plain": [
              "<Figure size 640x480 with 1 Axes>"
            ],
            "image/png": "[encoded data removed]"
          },
          "metadata": {}
        }
      ]
    },
    {
      "cell_type": "markdown",
      "source": [
        "## Actual Implementation - Brining everything together"
      ],
      "metadata": {
        "id": "f1hY8Qt2J67n"
      }
    },
    {
      "cell_type": "code",
      "source": [
        "def cost_function(intercept, coeff, x_train, y_train):\n",
        "\n",
        "  y_pred = np.sum(x_train * coeff,axis=1)+intercept\n",
        "\n",
        "  return np.sum((y_pred - y_train)**2) / len(x_train)\n",
        "\n",
        "def batch_gradient_descent(intercept, coeff, learning_rate, x_train, y_train):\n",
        "\n",
        "  n = len(x_train)\n",
        "\n",
        "  y_pred = np.sum(x_train * coeff, axis=1)+intercept\n",
        "\n",
        "  dC_DIntercept = - 2 * np.sum(y_train - y_pred) / n\n",
        "\n",
        "  intercept = intercept - learning_rate * dC_DIntercept\n",
        "\n",
        "  residuals = (y_train - y_pred).reshape(-1,1)\n",
        "  dC_Dcoeff = -2 * np.sum(x_train * residuals, axis=0)/n\n",
        "\n",
        "  max_gradient = 10.0\n",
        "\n",
        "  dC_Dcoeff = np.clip(dC_Dcoeff, -max_gradient, max_gradient)\n",
        "\n",
        "  coeff = coeff - learning_rate * dC_Dcoeff\n",
        "\n",
        "  return intercept, coeff\n",
        "\n",
        "class LinearRegressionSelf:\n",
        "\n",
        "  def __init__(self):\n",
        "    self.coeff = None\n",
        "    self.intercept = None\n",
        "    self.num_features = None\n",
        "    self.num_samples = None\n",
        "    self.costs = None\n",
        "    self.scale_features = None\n",
        "    self.mean = None\n",
        "    self.std = None\n",
        "\n",
        "  def fit(self, x_train, y_train, learning_rate = 0.01, num_iterations = 2000, tolerance = 0.00001, scale_features = False, decay_rate = 0.95):\n",
        "\n",
        "    original_lr = learning_rate\n",
        "\n",
        "    self.x_train_actual = x_train\n",
        "    self.y_train = y_train\n",
        "    self.learning_rate = learning_rate\n",
        "    self.num_iterations = num_iterations\n",
        "    self.scale_features = scale_features\n",
        "\n",
        "    if scale_features:\n",
        "      # self.scale_factor = (np.max(self.x_train_actual, axis = 0) - np.min(self.x_train_actual, axis = 0))\n",
        "      # self.scale_factor = np.where(self.scale_factor == 0, 1, self.scale_factor)\n",
        "      # self.x_train = np.round(self.x_train_actual / self.scale_factor, 4)\n",
        "\n",
        "      self.mean = np.mean(self.x_train_actual, axis=0)\n",
        "      self.std = np.std(self.x_train_actual, axis=0)\n",
        "      self.std = np.where(self.std == 0, 1, self.std)  # Handle zero variance\n",
        "      self.x_train = (self.x_train_actual - self.mean) / self.std\n",
        "\n",
        "    else:\n",
        "      self.x_train = self.x_train_actual\n",
        "\n",
        "    self.num_features = len(x_train[0])\n",
        "    self.num_samples = len(x_train)\n",
        "\n",
        "    self.coeff = np.random.normal(0, np.sqrt(2.0 / self.num_features), size=self.num_features)\n",
        "    self.intercept = 0.1\n",
        "\n",
        "    cost = cost_function(self.intercept, self.coeff, self.x_train, self.y_train)\n",
        "\n",
        "    print(f'No. of features: {self.num_features}')\n",
        "    print(f'No. of samples: {self.num_samples}')\n",
        "    print(f'Starting Cost: {round(cost,2)}')\n",
        "    print(f'Starting intercept: {round(self.intercept,2)}')\n",
        "    print(f'Starting Coeff: {np.round(self.coeff,2)}')\n",
        "\n",
        "    self.costs = []\n",
        "\n",
        "    print('\\nFitting the Model')\n",
        "\n",
        "    for iter in range(self.num_iterations):\n",
        "\n",
        "      cost = cost_function(self.intercept, self.coeff, self.x_train, self.y_train)\n",
        "      self.costs.append(round(cost,3))\n",
        "\n",
        "      self.intercept, self.coeff = batch_gradient_descent(self.intercept, self.coeff, self.learning_rate, self.x_train, self.y_train)\n",
        "\n",
        "      new_cost = cost_function(self.intercept, self.coeff, self.x_train, self.y_train)\n",
        "\n",
        "      if new_cost > cost:\n",
        "        self.learning_rate *= decay_rate\n",
        "      else:\n",
        "        self.learning_rate = min(self.learning_rate * 1.01, original_lr)\n",
        "\n",
        "      if abs(new_cost - cost) < tolerance:\n",
        "        print(f'Stopping at {iter} iteration')\n",
        "        break\n",
        "\n",
        "    print('\\nCompleted Fitting the Model')\n",
        "    print(f'Best Cost: {round(self.costs[-1],2)}')\n",
        "    print(f'Best intercept: {round(self.intercept,2)}')\n",
        "    print(f'Best Coeff: {self.coeff}')\n",
        "\n",
        "\n",
        "  def predict(self, x_test):\n",
        "\n",
        "    if self.scale_features:\n",
        "      # x_test_scaled = x_test / self.scale_factor\n",
        "      x_test_scaled = (x_test - self.mean) / self.std\n",
        "\n",
        "      y_pred = np.sum(x_test_scaled * self.coeff, axis = 1) + self.intercept\n",
        "    else:\n",
        "      y_pred = np.sum(x_test * self.coeff, axis = 1) + self.intercept\n",
        "\n",
        "    return y_pred\n",
        "\n",
        "  def score(self, y_test, y_pred):\n",
        "\n",
        "    r_squared = 1 - (np.sum((y_pred-y_test)**2) / np.sum((y_test-y_test.mean())**2))\n",
        "    adj_r_squared = 1 - ((1 - r_squared**2) * (self.num_samples - 1) / (self.num_samples - self.num_features - 1))\n",
        "\n",
        "    rmse = np.sqrt(np.sum((y_test - y_pred)**2)/len(y_test))\n",
        "    mae = np.sum(abs(y_test - y_pred))/len(y_test)\n",
        "\n",
        "    print(f'R_Squared: {round(r_squared,2)}, Adj_R_Squared: {round(adj_r_squared,2)}, RMSE: {round(rmse,2)}, MAE: {round(mae,2)}')\n",
        "    return"
      ],
      "metadata": {
        "id": "3ZoMJ_Lqio9b"
      },
      "execution_count": 436,
      "outputs": []
    },
    {
      "cell_type": "code",
      "source": [
        "num_features = 4\n",
        "num_samples = 10\n",
        "\n",
        "# x = np.array([[np.random.randint(1,10) for i in range(num_features)] for _ in range(num_samples)])\n",
        "x = np.array([[np.random.randint(1,10), np.random.randint(500,1000), np.random.randint(200,20000), 150] for _ in range(num_samples)])\n",
        "\n",
        "weights = np.array([2,3,4,5])\n",
        "\n",
        "y = np.sum(x * weights, axis = 1) + 5"
      ],
      "metadata": {
        "id": "0dMtZ0LoMmne"
      },
      "execution_count": null,
      "outputs": []
    },
    {
      "cell_type": "code",
      "source": [
        "x, y"
      ],
      "metadata": {
        "colab": {
          "base_uri": "https://localhost:8080/"
        },
        "id": "zzA1qbMsNBqw",
        "outputId": "80c4ec2c-bd28-4e60-d82a-cb763cc9210d"
      },
      "execution_count": null,
      "outputs": [
        {
          "output_type": "execute_result",
          "data": {
            "text/plain": [
              "(array([[    7,   574,  2890,   150],\n",
              "        [    2,   531,  7253,   150],\n",
              "        [    2,   739,  6249,   150],\n",
              "        [    2,   979, 16504,   150],\n",
              "        [    3,   820, 10813,   150],\n",
              "        [    3,   515,  6355,   150],\n",
              "        [    2,   715,   836,   150],\n",
              "        [    7,   963, 10040,   150],\n",
              "        [    2,   753,  5213,   150],\n",
              "        [    6,   982, 19313,   150]]),\n",
              " array([14051, 31364, 27972, 69712, 46473, 27726,  6248, 43818, 23870,\n",
              "        80965]))"
            ]
          },
          "metadata": {},
          "execution_count": 355
        }
      ]
    },
    {
      "cell_type": "code",
      "source": [
        "x_test = np.array([[np.random.randint(1,10), np.random.randint(50,100), np.random.randint(200,300), 150] for _ in range(num_samples)])\n",
        "\n",
        "y_test = np.sum(x_test * weights, axis = 1) + 5"
      ],
      "metadata": {
        "id": "NYdZc9G_PXFO"
      },
      "execution_count": 427,
      "outputs": []
    },
    {
      "cell_type": "code",
      "source": [
        "x_test, y_test"
      ],
      "metadata": {
        "colab": {
          "base_uri": "https://localhost:8080/"
        },
        "id": "RYD9n4IuP31Z",
        "outputId": "e3524548-cc94-4d4e-f3fe-e436953f5e58"
      },
      "execution_count": 428,
      "outputs": [
        {
          "output_type": "execute_result",
          "data": {
            "text/plain": [
              "(array([[  6,  72, 229, 150],\n",
              "        [  9,  98, 267, 150],\n",
              "        [  6,  68, 284, 150],\n",
              "        [  7,  54, 247, 150],\n",
              "        [  7,  73, 247, 150],\n",
              "        [  2,  88, 211, 150],\n",
              "        [  3,  70, 223, 150],\n",
              "        [  7,  61, 249, 150],\n",
              "        [  3,  51, 215, 150],\n",
              "        [  4,  76, 227, 150]]),\n",
              " array([1899, 2135, 2107, 1919, 1976, 1867, 1863, 1948, 1774, 1899]))"
            ]
          },
          "metadata": {},
          "execution_count": 428
        }
      ]
    },
    {
      "cell_type": "code",
      "source": [
        "model = LinearRegressionSelf()\n",
        "model.fit(x, y, learning_rate = 0.01, num_iterations = 1000000, tolerance = 1e-7, scale_features = True)"
      ],
      "metadata": {
        "colab": {
          "base_uri": "https://localhost:8080/"
        },
        "id": "YPpXHRjlQgpE",
        "outputId": "e18b88ad-55b7-4a40-d23a-12a7190f98b9"
      },
      "execution_count": 437,
      "outputs": [
        {
          "output_type": "stream",
          "name": "stdout",
          "text": [
            "No. of features: 4\n",
            "No. of samples: 10\n",
            "Starting Cost: 1883515365.73\n",
            "Starting intercept: 0.1\n",
            "Starting Coeff: [0.72 1.11 0.67 0.79]\n",
            "\n",
            "Fitting the Model\n",
            "Stopping at 220808 iteration\n",
            "\n",
            "Completed Fitting the Model\n",
            "Best Cost: 0.0\n",
            "Best intercept: 37219.9\n",
            "Best Coeff: [4.11800456e+00 5.12246556e+02 2.19425112e+04 7.93603674e-01]\n"
          ]
        }
      ]
    },
    {
      "cell_type": "code",
      "source": [
        "model.x_train"
      ],
      "metadata": {
        "colab": {
          "base_uri": "https://localhost:8080/"
        },
        "id": "s0iCqtMh2XgP",
        "outputId": "9761819b-3a35-4379-cc39-0bb105f3b254"
      },
      "execution_count": 438,
      "outputs": [
        {
          "output_type": "execute_result",
          "data": {
            "text/plain": [
              "array([[ 1.65118597, -1.07234401, -1.0311671 ,  0.        ],\n",
              "       [-0.77702869, -1.32417794, -0.23581617,  0.        ],\n",
              "       [-0.77702869, -0.10600451, -0.41883986,  0.        ],\n",
              "       [-0.77702869,  1.29958021,  1.4505903 ,  0.        ],\n",
              "       [-0.29138576,  0.36838033,  0.41315227,  0.        ],\n",
              "       [-0.29138576, -1.41788359, -0.39951664,  0.        ],\n",
              "       [-0.77702869, -0.24656299, -1.40560002,  0.        ],\n",
              "       [ 1.65118597,  1.20587456,  0.27223862,  0.        ],\n",
              "       [-0.77702869, -0.02401207, -0.60769696,  0.        ],\n",
              "       [ 1.16554303,  1.31715002,  1.96265557,  0.        ]])"
            ]
          },
          "metadata": {},
          "execution_count": 438
        }
      ]
    },
    {
      "cell_type": "code",
      "source": [
        "y_pred = model.predict(x_test)\n",
        "y_pred"
      ],
      "metadata": {
        "colab": {
          "base_uri": "https://localhost:8080/"
        },
        "id": "A_P0cTBrPh7-",
        "outputId": "34a6c237-a8e4-4327-d929-7587892f6551"
      },
      "execution_count": 440,
      "outputs": [
        {
          "output_type": "execute_result",
          "data": {
            "text/plain": [
              "array([1898.98906489, 2134.98931828, 2106.98892443, 1918.98848613,\n",
              "       1975.9889558 , 1866.9899548 , 1862.98938058, 1947.98865766,\n",
              "       1773.98891696, 1898.98940568])"
            ]
          },
          "metadata": {},
          "execution_count": 440
        }
      ]
    },
    {
      "cell_type": "code",
      "source": [
        "model.score(y_pred, y_test)"
      ],
      "metadata": {
        "colab": {
          "base_uri": "https://localhost:8080/"
        },
        "id": "xdxoiobMRWGm",
        "outputId": "6f0931ee-27f3-4309-8dcb-359d5a790858"
      },
      "execution_count": 441,
      "outputs": [
        {
          "output_type": "stream",
          "name": "stdout",
          "text": [
            "R_Squared: 1.0, Adj_R_Squared: 1.0, RMSE: 0.01, MAE: 0.01\n"
          ]
        }
      ]
    },
    {
      "cell_type": "code",
      "source": [
        "plt.plot(model.costs)\n",
        "# plt.plot(np.log(model.costs))\n",
        "plt.title(\"Cost (Squared error) reduction over iterations\")"
      ],
      "metadata": {
        "colab": {
          "base_uri": "https://localhost:8080/",
          "height": 470
        },
        "id": "0icphUI6Uah_",
        "outputId": "46297c3d-a973-4163-efb1-182b1258b0a8"
      },
      "execution_count": 444,
      "outputs": [
        {
          "output_type": "execute_result",
          "data": {
            "text/plain": [
              "Text(0.5, 1.0, 'Cost (Squared error) reduction over iterations')"
            ]
          },
          "metadata": {},
          "execution_count": 444
        },
        {
          "output_type": "display_data",
          "data": {
            "text/plain": [
              "<Figure size 640x480 with 1 Axes>"
            ],
            "image/png": "[encoded data removed]"
          },
          "metadata": {}
        }
      ]
    },
    {
      "cell_type": "code",
      "source": [
        "from sklearn.linear_model import LinearRegression"
      ],
      "metadata": {
        "id": "t_K_pdQ4cg3o"
      },
      "execution_count": 445,
      "outputs": []
    },
    {
      "cell_type": "code",
      "source": [
        "x,y"
      ],
      "metadata": {
        "colab": {
          "base_uri": "https://localhost:8080/"
        },
        "id": "Q6UG1NiUdBek",
        "outputId": "d49fbd81-384a-4af9-f5a4-5bf55ad53daa"
      },
      "execution_count": 470,
      "outputs": [
        {
          "output_type": "execute_result",
          "data": {
            "text/plain": [
              "(array([[    7,   574,  2890,   150],\n",
              "        [    2,   531,  7253,   150],\n",
              "        [    2,   739,  6249,   150],\n",
              "        [    2,   979, 16504,   150],\n",
              "        [    3,   820, 10813,   150],\n",
              "        [    3,   515,  6355,   150],\n",
              "        [    2,   715,   836,   150],\n",
              "        [    7,   963, 10040,   150],\n",
              "        [    2,   753,  5213,   150],\n",
              "        [    6,   982, 19313,   150]]),\n",
              " array([14051, 31364, 27972, 69712, 46473, 27726,  6248, 43818, 23870,\n",
              "        80965]))"
            ]
          },
          "metadata": {},
          "execution_count": 470
        }
      ]
    },
    {
      "cell_type": "code",
      "source": [
        "import numpy as np\n",
        "from sklearn.linear_model import LinearRegression\n",
        "\n",
        "reg = LinearRegression().fit(x, y)"
      ],
      "metadata": {
        "id": "C_sya134cqhO"
      },
      "execution_count": 447,
      "outputs": []
    },
    {
      "cell_type": "code",
      "source": [
        "reg.coef_, reg.intercept_"
      ],
      "metadata": {
        "colab": {
          "base_uri": "https://localhost:8080/"
        },
        "id": "_S2PIuYZdRhx",
        "outputId": "e9bcb235-3031-4162-a1f2-4092400fafa3"
      },
      "execution_count": 448,
      "outputs": [
        {
          "output_type": "execute_result",
          "data": {
            "text/plain": [
              "(array([2., 3., 4., 0.]), np.float64(755.0000000000509))"
            ]
          },
          "metadata": {},
          "execution_count": 448
        }
      ]
    },
    {
      "cell_type": "code",
      "source": [
        "x_test = np.array([[np.random.randint(1,10), np.random.randint(1,10), np.random.randint(1,10)] for _ in range(5)])\n",
        "weights = np.array([2,3,4])\n",
        "y_test = np.sum(x_test * weights, axis = 1) + 5"
      ],
      "metadata": {
        "id": "01XKScMnz6yq"
      },
      "execution_count": 475,
      "outputs": []
    },
    {
      "cell_type": "code",
      "source": [
        "x_test"
      ],
      "metadata": {
        "colab": {
          "base_uri": "https://localhost:8080/"
        },
        "id": "VkRxct1zz-bQ",
        "outputId": "b68087e1-135b-42e0-f535-8b340818b993"
      },
      "execution_count": 476,
      "outputs": [
        {
          "output_type": "execute_result",
          "data": {
            "text/plain": [
              "array([[3, 7, 3],\n",
              "       [3, 7, 2],\n",
              "       [6, 1, 3],\n",
              "       [5, 4, 9],\n",
              "       [3, 9, 8]])"
            ]
          },
          "metadata": {},
          "execution_count": 476
        }
      ]
    },
    {
      "cell_type": "markdown",
      "source": [
        "## Closed form solution\n",
        "\n",
        "```\n",
        "β = (X^T X)^(-1) X^T y\n",
        "```\n",
        "\n",
        "1.   Very expensive to do compute matrix calculations, if the dataset is large\n",
        "2.   No need to worry about learning rate etc\n",
        "\n",
        "\n"
      ],
      "metadata": {
        "id": "Pv0E3t6q2P1_"
      }
    },
    {
      "cell_type": "code",
      "source": [
        "def closed_form_solution(x,y):\n",
        "\n",
        "  x_stack = np.column_stack([np.ones(len(x)), x]) ## Adding intercept to input data\n",
        "\n",
        "  vars = np.linalg.inv(x_stack.T @ x_stack) @ x_stack.T @ y\n",
        "\n",
        "  coeff = vars[1:]\n",
        "  intercept = vars[0]\n",
        "\n",
        "  return coeff, intercept"
      ],
      "metadata": {
        "id": "lznHNSGh10_P"
      },
      "execution_count": 488,
      "outputs": []
    },
    {
      "cell_type": "code",
      "source": [
        "closed_form_solution(x_test,y_test)"
      ],
      "metadata": {
        "colab": {
          "base_uri": "https://localhost:8080/"
        },
        "id": "8BBVDJ9B2DqC",
        "outputId": "0862d677-6712-4825-e62a-4bd38e83b9f5"
      },
      "execution_count": 490,
      "outputs": [
        {
          "output_type": "execute_result",
          "data": {
            "text/plain": [
              "(array([2., 3., 4.]), np.float64(4.999999999987011))"
            ]
          },
          "metadata": {},
          "execution_count": 490
        }
      ]
    }
  ]
}